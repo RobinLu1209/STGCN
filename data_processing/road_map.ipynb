{
 "cells": [
  {
   "cell_type": "code",
   "execution_count": 1,
   "metadata": {
    "collapsed": true
   },
   "outputs": [],
   "source": [
    "import numpy as np\n",
    "import pandas as pd"
   ]
  },
  {
   "cell_type": "code",
   "execution_count": 2,
   "metadata": {
    "collapsed": true
   },
   "outputs": [],
   "source": [
    "with open('/home/blu/workspace/GCN/DCRNN-master/data/sensor_graph/graph_sensor_ids.txt') as f:\n",
    "        sensor_ids = f.read().strip().split(',')"
   ]
  },
  {
   "cell_type": "code",
   "execution_count": 4,
   "metadata": {
    "collapsed": false
   },
   "outputs": [],
   "source": [
    "distance_df = pd.read_csv('/home/blu/workspace/GCN/DCRNN-master/data/sensor_graph/distances_la_2012.csv', dtype={'from': 'str', 'to': 'str'})"
   ]
  },
  {
   "cell_type": "code",
   "execution_count": 5,
   "metadata": {
    "collapsed": false
   },
   "outputs": [
    {
     "data": {
      "text/html": [
       "<div>\n",
       "<table border=\"1\" class=\"dataframe\">\n",
       "  <thead>\n",
       "    <tr style=\"text-align: right;\">\n",
       "      <th></th>\n",
       "      <th>from</th>\n",
       "      <th>to</th>\n",
       "      <th>cost</th>\n",
       "    </tr>\n",
       "  </thead>\n",
       "  <tbody>\n",
       "    <tr>\n",
       "      <th>0</th>\n",
       "      <td>1201054</td>\n",
       "      <td>1201054</td>\n",
       "      <td>0.0</td>\n",
       "    </tr>\n",
       "    <tr>\n",
       "      <th>1</th>\n",
       "      <td>1201054</td>\n",
       "      <td>1201066</td>\n",
       "      <td>2610.9</td>\n",
       "    </tr>\n",
       "    <tr>\n",
       "      <th>2</th>\n",
       "      <td>1201054</td>\n",
       "      <td>1201076</td>\n",
       "      <td>2822.7</td>\n",
       "    </tr>\n",
       "    <tr>\n",
       "      <th>3</th>\n",
       "      <td>1201054</td>\n",
       "      <td>1201087</td>\n",
       "      <td>2911.5</td>\n",
       "    </tr>\n",
       "    <tr>\n",
       "      <th>4</th>\n",
       "      <td>1201054</td>\n",
       "      <td>1201100</td>\n",
       "      <td>7160.1</td>\n",
       "    </tr>\n",
       "  </tbody>\n",
       "</table>\n",
       "</div>"
      ],
      "text/plain": [
       "      from       to    cost\n",
       "0  1201054  1201054     0.0\n",
       "1  1201054  1201066  2610.9\n",
       "2  1201054  1201076  2822.7\n",
       "3  1201054  1201087  2911.5\n",
       "4  1201054  1201100  7160.1"
      ]
     },
     "execution_count": 5,
     "metadata": {},
     "output_type": "execute_result"
    }
   ],
   "source": [
    "distance_df.head()"
   ]
  },
  {
   "cell_type": "code",
   "execution_count": 6,
   "metadata": {
    "collapsed": true
   },
   "outputs": [],
   "source": [
    "num_sensors = len(sensor_ids)\n",
    "dist_mx = np.zeros((num_sensors, num_sensors), dtype=np.float32)\n",
    "dist_mx[:] = np.inf"
   ]
  },
  {
   "cell_type": "code",
   "execution_count": 8,
   "metadata": {
    "collapsed": false
   },
   "outputs": [
    {
     "data": {
      "text/plain": [
       "(207, 207)"
      ]
     },
     "execution_count": 8,
     "metadata": {},
     "output_type": "execute_result"
    }
   ],
   "source": [
    "dist_mx.shape"
   ]
  },
  {
   "cell_type": "code",
   "execution_count": 9,
   "metadata": {
    "collapsed": true
   },
   "outputs": [],
   "source": [
    "sensor_id_to_ind = {}\n",
    "for i, sensor_id in enumerate(sensor_ids):\n",
    "    sensor_id_to_ind[sensor_id] = i"
   ]
  },
  {
   "cell_type": "code",
   "execution_count": 11,
   "metadata": {
    "collapsed": false
   },
   "outputs": [],
   "source": [
    "for row in distance_df.values:\n",
    "    if row[0] not in sensor_id_to_ind or row[1] not in sensor_id_to_ind:\n",
    "        continue\n",
    "    dist_mx[sensor_id_to_ind[row[0]], sensor_id_to_ind[row[1]]] = row[2]"
   ]
  },
  {
   "cell_type": "code",
   "execution_count": 12,
   "metadata": {
    "collapsed": false
   },
   "outputs": [
    {
     "data": {
      "text/plain": [
       "array([[     0.        ,             inf,             inf, ...,\n",
       "                    inf,   8114.79980469,  10009.70019531],\n",
       "       [            inf,      0.        ,   2504.60009766, ...,\n",
       "                    inf,             inf,             inf],\n",
       "       [            inf,   1489.30004883,      0.        , ...,\n",
       "                    inf,             inf,   9837.        ],\n",
       "       ..., \n",
       "       [            inf,             inf,             inf, ...,\n",
       "             0.        ,             inf,             inf],\n",
       "       [  9599.79980469,             inf,             inf, ...,\n",
       "                    inf,      0.        ,             inf],\n",
       "       [ 10119.90039062,   9374.79980469,             inf, ...,\n",
       "                    inf,   9018.70019531,      0.        ]], dtype=float32)"
      ]
     },
     "execution_count": 12,
     "metadata": {},
     "output_type": "execute_result"
    }
   ],
   "source": [
    "dist_mx"
   ]
  },
  {
   "cell_type": "code",
   "execution_count": 13,
   "metadata": {
    "collapsed": true
   },
   "outputs": [],
   "source": [
    "distances = dist_mx[~np.isinf(dist_mx)].flatten()"
   ]
  },
  {
   "cell_type": "code",
   "execution_count": 14,
   "metadata": {
    "collapsed": false
   },
   "outputs": [
    {
     "data": {
      "text/plain": [
       "array([     0.        ,   8251.20019531,  10020.59960938, ...,\n",
       "         2757.19995117,   9018.70019531,      0.        ], dtype=float32)"
      ]
     },
     "execution_count": 14,
     "metadata": {},
     "output_type": "execute_result"
    }
   ],
   "source": [
    "distances"
   ]
  },
  {
   "cell_type": "code",
   "execution_count": 15,
   "metadata": {
    "collapsed": true
   },
   "outputs": [],
   "source": [
    "std = distances.std()"
   ]
  },
  {
   "cell_type": "code",
   "execution_count": 16,
   "metadata": {
    "collapsed": false
   },
   "outputs": [
    {
     "data": {
      "text/plain": [
       "2584.4502"
      ]
     },
     "execution_count": 16,
     "metadata": {},
     "output_type": "execute_result"
    }
   ],
   "source": [
    "std"
   ]
  },
  {
   "cell_type": "code",
   "execution_count": 18,
   "metadata": {
    "collapsed": false
   },
   "outputs": [],
   "source": [
    "road_df = pd.read_table('/home/blu/workspace/graduate_project/data/road_network_sub-dataset.v2', sep = '\\t')"
   ]
  },
  {
   "cell_type": "code",
   "execution_count": 20,
   "metadata": {
    "collapsed": false
   },
   "outputs": [
    {
     "data": {
      "text/html": [
       "<div>\n",
       "<table border=\"1\" class=\"dataframe\">\n",
       "  <thead>\n",
       "    <tr style=\"text-align: right;\">\n",
       "      <th></th>\n",
       "      <th>link_id</th>\n",
       "      <th>width</th>\n",
       "      <th>direction</th>\n",
       "      <th>snodeid</th>\n",
       "      <th>enodeid</th>\n",
       "      <th>length</th>\n",
       "      <th>speedclass</th>\n",
       "      <th>lanenum</th>\n",
       "    </tr>\n",
       "  </thead>\n",
       "  <tbody>\n",
       "    <tr>\n",
       "      <th>0</th>\n",
       "      <td>1562548955</td>\n",
       "      <td>30</td>\n",
       "      <td>3</td>\n",
       "      <td>1520445066</td>\n",
       "      <td>1549742690</td>\n",
       "      <td>0.038</td>\n",
       "      <td>6</td>\n",
       "      <td>1</td>\n",
       "    </tr>\n",
       "    <tr>\n",
       "      <th>1</th>\n",
       "      <td>1570012174</td>\n",
       "      <td>55</td>\n",
       "      <td>2</td>\n",
       "      <td>1520482305</td>\n",
       "      <td>1554157827</td>\n",
       "      <td>0.013</td>\n",
       "      <td>5</td>\n",
       "      <td>2</td>\n",
       "    </tr>\n",
       "    <tr>\n",
       "      <th>2</th>\n",
       "      <td>1542179399</td>\n",
       "      <td>30</td>\n",
       "      <td>2</td>\n",
       "      <td>1520491527</td>\n",
       "      <td>1531173821</td>\n",
       "      <td>0.146</td>\n",
       "      <td>6</td>\n",
       "      <td>1</td>\n",
       "    </tr>\n",
       "    <tr>\n",
       "      <th>3</th>\n",
       "      <td>1562548950</td>\n",
       "      <td>55</td>\n",
       "      <td>1</td>\n",
       "      <td>1520433538</td>\n",
       "      <td>1549742156</td>\n",
       "      <td>0.029</td>\n",
       "      <td>7</td>\n",
       "      <td>1</td>\n",
       "    </tr>\n",
       "    <tr>\n",
       "      <th>4</th>\n",
       "      <td>1526068509</td>\n",
       "      <td>30</td>\n",
       "      <td>2</td>\n",
       "      <td>1520486391</td>\n",
       "      <td>1520499209</td>\n",
       "      <td>0.156</td>\n",
       "      <td>6</td>\n",
       "      <td>1</td>\n",
       "    </tr>\n",
       "  </tbody>\n",
       "</table>\n",
       "</div>"
      ],
      "text/plain": [
       "      link_id  width  direction     snodeid     enodeid  length  speedclass  \\\n",
       "0  1562548955     30          3  1520445066  1549742690   0.038           6   \n",
       "1  1570012174     55          2  1520482305  1554157827   0.013           5   \n",
       "2  1542179399     30          2  1520491527  1531173821   0.146           6   \n",
       "3  1562548950     55          1  1520433538  1549742156   0.029           7   \n",
       "4  1526068509     30          2  1520486391  1520499209   0.156           6   \n",
       "\n",
       "   lanenum  \n",
       "0        1  \n",
       "1        2  \n",
       "2        1  \n",
       "3        1  \n",
       "4        1  "
      ]
     },
     "execution_count": 20,
     "metadata": {},
     "output_type": "execute_result"
    }
   ],
   "source": [
    "road_df.head()"
   ]
  },
  {
   "cell_type": "code",
   "execution_count": 22,
   "metadata": {
    "collapsed": false
   },
   "outputs": [],
   "source": [
    "road_map = road_df.loc[:,['link_id','enodeid','length'] ]"
   ]
  },
  {
   "cell_type": "code",
   "execution_count": 23,
   "metadata": {
    "collapsed": true
   },
   "outputs": [],
   "source": [
    "road_map['length'] = road_map['length'].map(lambda x: x*1000)  "
   ]
  },
  {
   "cell_type": "code",
   "execution_count": 26,
   "metadata": {
    "collapsed": false
   },
   "outputs": [],
   "source": [
    "road_map.to_csv('baidu_dcrnn_roadmap', index=False)"
   ]
  },
  {
   "cell_type": "code",
   "execution_count": null,
   "metadata": {
    "collapsed": true
   },
   "outputs": [],
   "source": []
  }
 ],
 "metadata": {
  "anaconda-cloud": {},
  "kernelspec": {
   "display_name": "Python [default]",
   "language": "python",
   "name": "python3"
  },
  "language_info": {
   "codemirror_mode": {
    "name": "ipython",
    "version": 3
   },
   "file_extension": ".py",
   "mimetype": "text/x-python",
   "name": "python",
   "nbconvert_exporter": "python",
   "pygments_lexer": "ipython3",
   "version": "3.5.2"
  }
 },
 "nbformat": 4,
 "nbformat_minor": 1
}
