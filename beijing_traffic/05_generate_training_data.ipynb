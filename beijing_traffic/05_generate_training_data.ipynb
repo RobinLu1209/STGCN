{
 "cells": [
  {
   "cell_type": "code",
   "execution_count": 3,
   "metadata": {
    "collapsed": true
   },
   "outputs": [],
   "source": [
    "from __future__ import absolute_import, division, print_function, unicode_literals\n",
    "\n",
    "import collections\n",
    "import matplotlib.pyplot as plt\n",
    "import numpy as np\n",
    "import pandas as pd\n",
    "\n",
    "import tensorflow as tf\n",
    "\n",
    "from tensorflow.keras import layers"
   ]
  },
  {
   "cell_type": "code",
   "execution_count": 139,
   "metadata": {
    "collapsed": true
   },
   "outputs": [],
   "source": [
    "from tqdm import tqdm"
   ]
  },
  {
   "cell_type": "markdown",
   "metadata": {},
   "source": [
    "## 处理数据\n",
    "\n",
    "一共206条路，每条路有5856个time slot数据，时间间隔是15分钟，我们用过去的12组数据，预测未来的一步"
   ]
  },
  {
   "cell_type": "code",
   "execution_count": 73,
   "metadata": {
    "collapsed": false
   },
   "outputs": [],
   "source": [
    "speed_np = np.load('/home/blu/workspace/graduate_project/STGCN/beijing_traffic/04_selected_speed_data.npy')"
   ]
  },
  {
   "cell_type": "code",
   "execution_count": 74,
   "metadata": {
    "collapsed": false
   },
   "outputs": [],
   "source": [
    "speed_df = pd.DataFrame(speed_np)"
   ]
  },
  {
   "cell_type": "code",
   "execution_count": 75,
   "metadata": {
    "collapsed": false
   },
   "outputs": [
    {
     "data": {
      "text/html": [
       "<div>\n",
       "<style scoped>\n",
       "    .dataframe tbody tr th:only-of-type {\n",
       "        vertical-align: middle;\n",
       "    }\n",
       "\n",
       "    .dataframe tbody tr th {\n",
       "        vertical-align: top;\n",
       "    }\n",
       "\n",
       "    .dataframe thead th {\n",
       "        text-align: right;\n",
       "    }\n",
       "</style>\n",
       "<table border=\"1\" class=\"dataframe\">\n",
       "  <thead>\n",
       "    <tr style=\"text-align: right;\">\n",
       "      <th></th>\n",
       "      <th>link_id</th>\n",
       "      <th>time</th>\n",
       "      <th>speed</th>\n",
       "    </tr>\n",
       "  </thead>\n",
       "  <tbody>\n",
       "    <tr>\n",
       "      <th>0</th>\n",
       "      <td>1.561646e+09</td>\n",
       "      <td>0</td>\n",
       "      <td>27.994844</td>\n",
       "    </tr>\n",
       "    <tr>\n",
       "      <th>1</th>\n",
       "      <td>1.561646e+09</td>\n",
       "      <td>1</td>\n",
       "      <td>28.143859</td>\n",
       "    </tr>\n",
       "    <tr>\n",
       "      <th>2</th>\n",
       "      <td>1.561646e+09</td>\n",
       "      <td>2</td>\n",
       "      <td>24.732537</td>\n",
       "    </tr>\n",
       "    <tr>\n",
       "      <th>3</th>\n",
       "      <td>1.561646e+09</td>\n",
       "      <td>3</td>\n",
       "      <td>24.710982</td>\n",
       "    </tr>\n",
       "    <tr>\n",
       "      <th>4</th>\n",
       "      <td>1.561646e+09</td>\n",
       "      <td>4</td>\n",
       "      <td>31.373775</td>\n",
       "    </tr>\n",
       "  </tbody>\n",
       "</table>\n",
       "</div>"
      ],
      "text/plain": [
       "        link_id  time      speed\n",
       "0  1.561646e+09     0  27.994844\n",
       "1  1.561646e+09     1  28.143859\n",
       "2  1.561646e+09     2  24.732537\n",
       "3  1.561646e+09     3  24.710982\n",
       "4  1.561646e+09     4  31.373775"
      ]
     },
     "execution_count": 75,
     "metadata": {},
     "output_type": "execute_result"
    }
   ],
   "source": [
    "speed_df.columns = ['link_id', 'time', 'speed']\n",
    "speed_df['time'] = speed_df['time'].astype(int)\n",
    "speed_df.head()"
   ]
  },
  {
   "cell_type": "code",
   "execution_count": 76,
   "metadata": {
    "collapsed": false
   },
   "outputs": [],
   "source": [
    "speed_df = speed_df.drop(['link_id'], axis=1)   #删除link_id"
   ]
  },
  {
   "cell_type": "code",
   "execution_count": 84,
   "metadata": {
    "collapsed": false
   },
   "outputs": [
    {
     "data": {
      "text/plain": [
       "5856"
      ]
     },
     "execution_count": 84,
     "metadata": {},
     "output_type": "execute_result"
    }
   ],
   "source": [
    "len(speed_df['time'].unique())"
   ]
  },
  {
   "cell_type": "code",
   "execution_count": 85,
   "metadata": {
    "collapsed": true
   },
   "outputs": [],
   "source": [
    "df_np = []\n",
    "for i in range(len(speed_df['time'].unique())):\n",
    "    df_arr = speed_df[speed_df['time']==i]['speed'].values\n",
    "    df_np.append(df_arr)\n",
    "df_np = np.stack(df_np, axis=0)"
   ]
  },
  {
   "cell_type": "code",
   "execution_count": 87,
   "metadata": {
    "collapsed": false
   },
   "outputs": [
    {
     "data": {
      "text/html": [
       "<div>\n",
       "<style scoped>\n",
       "    .dataframe tbody tr th:only-of-type {\n",
       "        vertical-align: middle;\n",
       "    }\n",
       "\n",
       "    .dataframe tbody tr th {\n",
       "        vertical-align: top;\n",
       "    }\n",
       "\n",
       "    .dataframe thead th {\n",
       "        text-align: right;\n",
       "    }\n",
       "</style>\n",
       "<table border=\"1\" class=\"dataframe\">\n",
       "  <thead>\n",
       "    <tr style=\"text-align: right;\">\n",
       "      <th></th>\n",
       "      <th>0</th>\n",
       "      <th>1</th>\n",
       "      <th>2</th>\n",
       "      <th>3</th>\n",
       "      <th>4</th>\n",
       "      <th>5</th>\n",
       "      <th>6</th>\n",
       "      <th>7</th>\n",
       "      <th>8</th>\n",
       "      <th>9</th>\n",
       "      <th>...</th>\n",
       "      <th>206</th>\n",
       "      <th>207</th>\n",
       "      <th>208</th>\n",
       "      <th>209</th>\n",
       "      <th>210</th>\n",
       "      <th>211</th>\n",
       "      <th>212</th>\n",
       "      <th>213</th>\n",
       "      <th>214</th>\n",
       "      <th>215</th>\n",
       "    </tr>\n",
       "  </thead>\n",
       "  <tbody>\n",
       "    <tr>\n",
       "      <th>0</th>\n",
       "      <td>27.994844</td>\n",
       "      <td>30.347143</td>\n",
       "      <td>32.575597</td>\n",
       "      <td>18.727644</td>\n",
       "      <td>40.066479</td>\n",
       "      <td>37.117476</td>\n",
       "      <td>49.235025</td>\n",
       "      <td>31.165759</td>\n",
       "      <td>45.006070</td>\n",
       "      <td>36.879391</td>\n",
       "      <td>...</td>\n",
       "      <td>47.066148</td>\n",
       "      <td>38.503741</td>\n",
       "      <td>28.511387</td>\n",
       "      <td>35.717083</td>\n",
       "      <td>27.731028</td>\n",
       "      <td>33.292211</td>\n",
       "      <td>28.418867</td>\n",
       "      <td>49.235025</td>\n",
       "      <td>27.878318</td>\n",
       "      <td>39.475456</td>\n",
       "    </tr>\n",
       "    <tr>\n",
       "      <th>1</th>\n",
       "      <td>28.143859</td>\n",
       "      <td>31.611929</td>\n",
       "      <td>34.014326</td>\n",
       "      <td>19.190332</td>\n",
       "      <td>39.347278</td>\n",
       "      <td>39.545619</td>\n",
       "      <td>51.121558</td>\n",
       "      <td>33.794416</td>\n",
       "      <td>46.564749</td>\n",
       "      <td>38.663385</td>\n",
       "      <td>...</td>\n",
       "      <td>47.787003</td>\n",
       "      <td>40.128267</td>\n",
       "      <td>25.188556</td>\n",
       "      <td>32.000327</td>\n",
       "      <td>28.998823</td>\n",
       "      <td>33.574776</td>\n",
       "      <td>29.392379</td>\n",
       "      <td>51.121558</td>\n",
       "      <td>29.418825</td>\n",
       "      <td>42.973169</td>\n",
       "    </tr>\n",
       "    <tr>\n",
       "      <th>2</th>\n",
       "      <td>24.732537</td>\n",
       "      <td>26.622035</td>\n",
       "      <td>35.564099</td>\n",
       "      <td>19.013441</td>\n",
       "      <td>40.294744</td>\n",
       "      <td>42.530657</td>\n",
       "      <td>51.282347</td>\n",
       "      <td>34.538524</td>\n",
       "      <td>45.572762</td>\n",
       "      <td>39.936644</td>\n",
       "      <td>...</td>\n",
       "      <td>47.217317</td>\n",
       "      <td>43.322588</td>\n",
       "      <td>32.347406</td>\n",
       "      <td>32.610760</td>\n",
       "      <td>30.024399</td>\n",
       "      <td>33.824207</td>\n",
       "      <td>28.351918</td>\n",
       "      <td>51.282347</td>\n",
       "      <td>29.312808</td>\n",
       "      <td>43.312035</td>\n",
       "    </tr>\n",
       "    <tr>\n",
       "      <th>3</th>\n",
       "      <td>24.710982</td>\n",
       "      <td>25.107506</td>\n",
       "      <td>36.822186</td>\n",
       "      <td>19.108096</td>\n",
       "      <td>40.521331</td>\n",
       "      <td>43.199360</td>\n",
       "      <td>49.639349</td>\n",
       "      <td>32.813774</td>\n",
       "      <td>44.114274</td>\n",
       "      <td>40.153172</td>\n",
       "      <td>...</td>\n",
       "      <td>45.834001</td>\n",
       "      <td>44.046478</td>\n",
       "      <td>53.613536</td>\n",
       "      <td>35.440693</td>\n",
       "      <td>31.382230</td>\n",
       "      <td>32.121083</td>\n",
       "      <td>28.018398</td>\n",
       "      <td>49.639349</td>\n",
       "      <td>28.436941</td>\n",
       "      <td>40.161472</td>\n",
       "    </tr>\n",
       "    <tr>\n",
       "      <th>4</th>\n",
       "      <td>31.373775</td>\n",
       "      <td>28.094612</td>\n",
       "      <td>40.339869</td>\n",
       "      <td>21.048341</td>\n",
       "      <td>40.587194</td>\n",
       "      <td>43.380984</td>\n",
       "      <td>49.367218</td>\n",
       "      <td>32.259387</td>\n",
       "      <td>45.573407</td>\n",
       "      <td>38.585181</td>\n",
       "      <td>...</td>\n",
       "      <td>46.819217</td>\n",
       "      <td>43.892583</td>\n",
       "      <td>57.641994</td>\n",
       "      <td>36.095982</td>\n",
       "      <td>33.408229</td>\n",
       "      <td>32.708585</td>\n",
       "      <td>31.776648</td>\n",
       "      <td>49.367218</td>\n",
       "      <td>30.467981</td>\n",
       "      <td>37.835046</td>\n",
       "    </tr>\n",
       "  </tbody>\n",
       "</table>\n",
       "<p>5 rows × 216 columns</p>\n",
       "</div>"
      ],
      "text/plain": [
       "         0          1          2          3          4          5    \\\n",
       "0  27.994844  30.347143  32.575597  18.727644  40.066479  37.117476   \n",
       "1  28.143859  31.611929  34.014326  19.190332  39.347278  39.545619   \n",
       "2  24.732537  26.622035  35.564099  19.013441  40.294744  42.530657   \n",
       "3  24.710982  25.107506  36.822186  19.108096  40.521331  43.199360   \n",
       "4  31.373775  28.094612  40.339869  21.048341  40.587194  43.380984   \n",
       "\n",
       "         6          7          8          9    ...        206        207  \\\n",
       "0  49.235025  31.165759  45.006070  36.879391  ...  47.066148  38.503741   \n",
       "1  51.121558  33.794416  46.564749  38.663385  ...  47.787003  40.128267   \n",
       "2  51.282347  34.538524  45.572762  39.936644  ...  47.217317  43.322588   \n",
       "3  49.639349  32.813774  44.114274  40.153172  ...  45.834001  44.046478   \n",
       "4  49.367218  32.259387  45.573407  38.585181  ...  46.819217  43.892583   \n",
       "\n",
       "         208        209        210        211        212        213  \\\n",
       "0  28.511387  35.717083  27.731028  33.292211  28.418867  49.235025   \n",
       "1  25.188556  32.000327  28.998823  33.574776  29.392379  51.121558   \n",
       "2  32.347406  32.610760  30.024399  33.824207  28.351918  51.282347   \n",
       "3  53.613536  35.440693  31.382230  32.121083  28.018398  49.639349   \n",
       "4  57.641994  36.095982  33.408229  32.708585  31.776648  49.367218   \n",
       "\n",
       "         214        215  \n",
       "0  27.878318  39.475456  \n",
       "1  29.418825  42.973169  \n",
       "2  29.312808  43.312035  \n",
       "3  28.436941  40.161472  \n",
       "4  30.467981  37.835046  \n",
       "\n",
       "[5 rows x 216 columns]"
      ]
     },
     "execution_count": 87,
     "metadata": {},
     "output_type": "execute_result"
    }
   ],
   "source": [
    "df = pd.DataFrame(df_np)\n",
    "df.head()"
   ]
  },
  {
   "cell_type": "code",
   "execution_count": 88,
   "metadata": {
    "collapsed": false
   },
   "outputs": [
    {
     "data": {
      "text/plain": [
       "(5856, 216)"
      ]
     },
     "execution_count": 88,
     "metadata": {},
     "output_type": "execute_result"
    }
   ],
   "source": [
    "df.shape"
   ]
  },
  {
   "cell_type": "code",
   "execution_count": 149,
   "metadata": {
    "collapsed": true
   },
   "outputs": [],
   "source": [
    "x = []\n",
    "y = []\n",
    "x_offset = 12\n",
    "y_offset = 1"
   ]
  },
  {
   "cell_type": "code",
   "execution_count": 151,
   "metadata": {
    "collapsed": false
   },
   "outputs": [
    {
     "name": "stderr",
     "output_type": "stream",
     "text": [
      "100%|██████████| 5843/5843 [00:01<00:00, 3218.28it/s]\n"
     ]
    }
   ],
   "source": [
    "index_max = (df.shape[0]) - x_offset - y_offset\n",
    "for i in tqdm(range(index_max)):\n",
    "    x_array = df[i : i + x_offset].values\n",
    "    x_array = np.array(x_array).flatten()\n",
    "    y_array = df[i + x_offset : i + x_offset + y_offset].values\n",
    "    y_array = np.array(y_array).flatten()\n",
    "    \n",
    "    x.append(x_array.tolist())\n",
    "    y.append(y_array.tolist())\n",
    "\n",
    "x = np.stack(x, axis=0)    \n",
    "y = np.stack(y, axis=0)"
   ]
  },
  {
   "cell_type": "code",
   "execution_count": 152,
   "metadata": {
    "collapsed": false
   },
   "outputs": [
    {
     "name": "stdout",
     "output_type": "stream",
     "text": [
      "x.shape =  (5843, 2592)  y.shape =  (5843, 216)\n"
     ]
    }
   ],
   "source": [
    "print(\"x.shape = \", x.shape, \" y.shape = \", y.shape)"
   ]
  },
  {
   "cell_type": "markdown",
   "metadata": {},
   "source": [
    "x与y为所有数据，按照训练集70%，验证集10%，测试集20%的比例进行划分"
   ]
  },
  {
   "cell_type": "code",
   "execution_count": 153,
   "metadata": {
    "collapsed": true
   },
   "outputs": [],
   "source": [
    "num_samples = x.shape[0]\n",
    "num_test = round(num_samples * 0.2)\n",
    "num_train = round(num_samples * 0.7)\n",
    "num_val = num_samples - num_test - num_train\n",
    "\n",
    "x_train, y_train = x[:num_train], y[:num_train]\n",
    "x_val, y_val = (\n",
    "        x[num_train: num_train + num_val],\n",
    "        y[num_train: num_train + num_val],\n",
    "    )\n",
    "x_test, y_test = x[-num_test:], y[-num_test:]"
   ]
  },
  {
   "cell_type": "code",
   "execution_count": 156,
   "metadata": {
    "collapsed": false
   },
   "outputs": [],
   "source": [
    "np.save(\"/home/blu/workspace/graduate_project/STGCN/beijing_traffic/x_train.npy\", x_train)\n",
    "np.save(\"/home/blu/workspace/graduate_project/STGCN/beijing_traffic/y_train.npy\", y_train)"
   ]
  },
  {
   "cell_type": "code",
   "execution_count": 157,
   "metadata": {
    "collapsed": true
   },
   "outputs": [],
   "source": [
    "np.save(\"/home/blu/workspace/graduate_project/STGCN/beijing_traffic/x_test.npy\", x_test)\n",
    "np.save(\"/home/blu/workspace/graduate_project/STGCN/beijing_traffic/y_test.npy\", y_test)\n",
    "np.save(\"/home/blu/workspace/graduate_project/STGCN/beijing_traffic/x_val.npy\", x_val)\n",
    "np.save(\"/home/blu/workspace/graduate_project/STGCN/beijing_traffic/y_val.npy\", y_val)"
   ]
  },
  {
   "cell_type": "code",
   "execution_count": null,
   "metadata": {
    "collapsed": true
   },
   "outputs": [],
   "source": []
  }
 ],
 "metadata": {
  "anaconda-cloud": {},
  "kernelspec": {
   "display_name": "Python [conda env:tensorflow_gpu]",
   "language": "python",
   "name": "conda-env-tensorflow_gpu-py"
  },
  "language_info": {
   "codemirror_mode": {
    "name": "ipython",
    "version": 3
   },
   "file_extension": ".py",
   "mimetype": "text/x-python",
   "name": "python",
   "nbconvert_exporter": "python",
   "pygments_lexer": "ipython3",
   "version": "3.6.7"
  }
 },
 "nbformat": 4,
 "nbformat_minor": 1
}
