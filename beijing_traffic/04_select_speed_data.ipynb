{
 "cells": [
  {
   "cell_type": "code",
   "execution_count": 2,
   "metadata": {},
   "outputs": [],
   "source": [
    "import pandas as pd\n",
    "import numpy as np"
   ]
  },
  {
   "cell_type": "code",
   "execution_count": 13,
   "metadata": {},
   "outputs": [
    {
     "data": {
      "text/html": [
       "<div>\n",
       "<style scoped>\n",
       "    .dataframe tbody tr th:only-of-type {\n",
       "        vertical-align: middle;\n",
       "    }\n",
       "\n",
       "    .dataframe tbody tr th {\n",
       "        vertical-align: top;\n",
       "    }\n",
       "\n",
       "    .dataframe thead th {\n",
       "        text-align: right;\n",
       "    }\n",
       "</style>\n",
       "<table border=\"1\" class=\"dataframe\">\n",
       "  <thead>\n",
       "    <tr style=\"text-align: right;\">\n",
       "      <th></th>\n",
       "      <th>link_id</th>\n",
       "      <th>time</th>\n",
       "      <th>speed</th>\n",
       "    </tr>\n",
       "  </thead>\n",
       "  <tbody>\n",
       "    <tr>\n",
       "      <th>0</th>\n",
       "      <td>1570006049</td>\n",
       "      <td>4685</td>\n",
       "      <td>19.682303</td>\n",
       "    </tr>\n",
       "    <tr>\n",
       "      <th>1</th>\n",
       "      <td>1570006049</td>\n",
       "      <td>4686</td>\n",
       "      <td>18.807499</td>\n",
       "    </tr>\n",
       "    <tr>\n",
       "      <th>2</th>\n",
       "      <td>1570006049</td>\n",
       "      <td>4687</td>\n",
       "      <td>18.657097</td>\n",
       "    </tr>\n",
       "    <tr>\n",
       "      <th>3</th>\n",
       "      <td>1570006049</td>\n",
       "      <td>4688</td>\n",
       "      <td>19.591112</td>\n",
       "    </tr>\n",
       "    <tr>\n",
       "      <th>4</th>\n",
       "      <td>1570006049</td>\n",
       "      <td>4689</td>\n",
       "      <td>19.402024</td>\n",
       "    </tr>\n",
       "  </tbody>\n",
       "</table>\n",
       "</div>"
      ],
      "text/plain": [
       "      link_id  time      speed\n",
       "0  1570006049  4685  19.682303\n",
       "1  1570006049  4686  18.807499\n",
       "2  1570006049  4687  18.657097\n",
       "3  1570006049  4688  19.591112\n",
       "4  1570006049  4689  19.402024"
      ]
     },
     "execution_count": 13,
     "metadata": {},
     "output_type": "execute_result"
    }
   ],
   "source": [
    "path = 'D:/2019-2020-1/BaiduTraffic/traffic_speed_sub-dataset.v2/traffic_speed_sub-dataset/traffic_speed_sub-dataset_02.v2'\n",
    "speed_df = pd.read_table(path, names = ['link_id', 'time', 'speed'], sep = ',')\n",
    "speed_df.head()"
   ]
  },
  {
   "cell_type": "code",
   "execution_count": 28,
   "metadata": {},
   "outputs": [
    {
     "name": "stdout",
     "output_type": "stream",
     "text": [
      "D:/2019-2020-1/BaiduTraffic/traffic_speed_sub-dataset.v2/traffic_speed_sub-dataset/traffic_speed_sub-dataset_02.v2\n",
      "(392352, 3)\n",
      "D:/2019-2020-1/BaiduTraffic/traffic_speed_sub-dataset.v2/traffic_speed_sub-dataset/traffic_speed_sub-dataset_03.v2\n",
      "(503616, 3)\n",
      "D:/2019-2020-1/BaiduTraffic/traffic_speed_sub-dataset.v2/traffic_speed_sub-dataset/traffic_speed_sub-dataset_04.v2\n",
      "(638304, 3)\n",
      "D:/2019-2020-1/BaiduTraffic/traffic_speed_sub-dataset.v2/traffic_speed_sub-dataset/traffic_speed_sub-dataset_05.v2\n",
      "(767136, 3)\n",
      "D:/2019-2020-1/BaiduTraffic/traffic_speed_sub-dataset.v2/traffic_speed_sub-dataset/traffic_speed_sub-dataset_06.v2\n",
      "(895968, 3)\n",
      "D:/2019-2020-1/BaiduTraffic/traffic_speed_sub-dataset.v2/traffic_speed_sub-dataset/traffic_speed_sub-dataset_07.v2\n",
      "(1042368, 3)\n",
      "D:/2019-2020-1/BaiduTraffic/traffic_speed_sub-dataset.v2/traffic_speed_sub-dataset/traffic_speed_sub-dataset_08.v2\n",
      "(1141920, 3)\n",
      "D:/2019-2020-1/BaiduTraffic/traffic_speed_sub-dataset.v2/traffic_speed_sub-dataset/traffic_speed_sub-dataset_09.v2\n",
      "(1264896, 3)\n"
     ]
    }
   ],
   "source": [
    "for i in range(2,10):\n",
    "    path = 'D:/2019-2020-1/BaiduTraffic/traffic_speed_sub-dataset.v2/traffic_speed_sub-dataset/traffic_speed_sub-dataset_0%d.v2'%(i)\n",
    "    print(path)\n",
    "    speed_df = pd.read_table(path, names = ['link_id', 'time', 'speed'], sep = ',')\n",
    "    selected_speed = speed_df[speed_df['link_id'].isin(selected_id)]\n",
    "    c = np.concatenate((c,selected_speed), axis=0)\n",
    "    print(c.shape)"
   ]
  },
  {
   "cell_type": "code",
   "execution_count": 14,
   "metadata": {},
   "outputs": [
    {
     "data": {
      "text/plain": [
       "(26438669, 3)"
      ]
     },
     "execution_count": 14,
     "metadata": {},
     "output_type": "execute_result"
    }
   ],
   "source": [
    "speed_df.shape"
   ]
  },
  {
   "cell_type": "code",
   "execution_count": 15,
   "metadata": {},
   "outputs": [],
   "source": [
    "selected_id = np.load(\"02_selected_id.npy\")"
   ]
  },
  {
   "cell_type": "code",
   "execution_count": 16,
   "metadata": {},
   "outputs": [],
   "source": [
    "selected_speed_2 = speed_df[speed_df['link_id'].isin(selected_id)]"
   ]
  },
  {
   "cell_type": "code",
   "execution_count": 20,
   "metadata": {},
   "outputs": [],
   "source": [
    "a = selected_speed.values"
   ]
  },
  {
   "cell_type": "code",
   "execution_count": 25,
   "metadata": {},
   "outputs": [
    {
     "data": {
      "text/plain": [
       "array([[1.56164640e+09, 0.00000000e+00, 2.79948442e+01],\n",
       "       [1.56164640e+09, 1.00000000e+00, 2.81438587e+01],\n",
       "       [1.56164640e+09, 2.00000000e+00, 2.47325369e+01],\n",
       "       ...,\n",
       "       [1.54215675e+09, 5.85300000e+03, 1.91609417e+01],\n",
       "       [1.54215675e+09, 5.85400000e+03, 1.87989461e+01],\n",
       "       [1.54215675e+09, 5.85500000e+03, 1.95474078e+01]])"
      ]
     },
     "execution_count": 25,
     "metadata": {},
     "output_type": "execute_result"
    }
   ],
   "source": [
    "a"
   ]
  },
  {
   "cell_type": "code",
   "execution_count": 21,
   "metadata": {},
   "outputs": [],
   "source": [
    "b = selected_speed_2.values"
   ]
  },
  {
   "cell_type": "code",
   "execution_count": 23,
   "metadata": {},
   "outputs": [],
   "source": [
    "c = np.concatenate((a,b), axis=0)"
   ]
  },
  {
   "cell_type": "code",
   "execution_count": 24,
   "metadata": {},
   "outputs": [
    {
     "data": {
      "text/plain": [
       "(281088, 3)"
      ]
     },
     "execution_count": 24,
     "metadata": {},
     "output_type": "execute_result"
    }
   ],
   "source": [
    "c.shape"
   ]
  },
  {
   "cell_type": "code",
   "execution_count": 30,
   "metadata": {},
   "outputs": [],
   "source": [
    "np.save(\"selected_speed_data.npy\", c)"
   ]
  },
  {
   "cell_type": "code",
   "execution_count": 34,
   "metadata": {},
   "outputs": [],
   "source": [
    "df = pd.DataFrame(c)"
   ]
  },
  {
   "cell_type": "code",
   "execution_count": 39,
   "metadata": {},
   "outputs": [],
   "source": [
    "df.columns = ['link_id', 'time', 'speed']"
   ]
  },
  {
   "cell_type": "code",
   "execution_count": 41,
   "metadata": {},
   "outputs": [],
   "source": [
    "df['link_id'] = df['link_id'].astype(int)"
   ]
  },
  {
   "cell_type": "code",
   "execution_count": 43,
   "metadata": {},
   "outputs": [],
   "source": [
    "df['time'] = df['time'].astype(int)"
   ]
  },
  {
   "cell_type": "code",
   "execution_count": 44,
   "metadata": {},
   "outputs": [
    {
     "data": {
      "text/html": [
       "<div>\n",
       "<style scoped>\n",
       "    .dataframe tbody tr th:only-of-type {\n",
       "        vertical-align: middle;\n",
       "    }\n",
       "\n",
       "    .dataframe tbody tr th {\n",
       "        vertical-align: top;\n",
       "    }\n",
       "\n",
       "    .dataframe thead th {\n",
       "        text-align: right;\n",
       "    }\n",
       "</style>\n",
       "<table border=\"1\" class=\"dataframe\">\n",
       "  <thead>\n",
       "    <tr style=\"text-align: right;\">\n",
       "      <th></th>\n",
       "      <th>link_id</th>\n",
       "      <th>time</th>\n",
       "      <th>speed</th>\n",
       "    </tr>\n",
       "  </thead>\n",
       "  <tbody>\n",
       "    <tr>\n",
       "      <th>0</th>\n",
       "      <td>1561646402</td>\n",
       "      <td>0</td>\n",
       "      <td>27.994844</td>\n",
       "    </tr>\n",
       "    <tr>\n",
       "      <th>1</th>\n",
       "      <td>1561646402</td>\n",
       "      <td>1</td>\n",
       "      <td>28.143859</td>\n",
       "    </tr>\n",
       "    <tr>\n",
       "      <th>2</th>\n",
       "      <td>1561646402</td>\n",
       "      <td>2</td>\n",
       "      <td>24.732537</td>\n",
       "    </tr>\n",
       "    <tr>\n",
       "      <th>3</th>\n",
       "      <td>1561646402</td>\n",
       "      <td>3</td>\n",
       "      <td>24.710982</td>\n",
       "    </tr>\n",
       "    <tr>\n",
       "      <th>4</th>\n",
       "      <td>1561646402</td>\n",
       "      <td>4</td>\n",
       "      <td>31.373775</td>\n",
       "    </tr>\n",
       "  </tbody>\n",
       "</table>\n",
       "</div>"
      ],
      "text/plain": [
       "      link_id  time      speed\n",
       "0  1561646402     0  27.994844\n",
       "1  1561646402     1  28.143859\n",
       "2  1561646402     2  24.732537\n",
       "3  1561646402     3  24.710982\n",
       "4  1561646402     4  31.373775"
      ]
     },
     "execution_count": 44,
     "metadata": {},
     "output_type": "execute_result"
    }
   ],
   "source": [
    "df.head()"
   ]
  },
  {
   "cell_type": "code",
   "execution_count": 45,
   "metadata": {},
   "outputs": [],
   "source": [
    "c = df.values"
   ]
  },
  {
   "cell_type": "code",
   "execution_count": 46,
   "metadata": {},
   "outputs": [
    {
     "data": {
      "text/plain": [
       "array([[1.56164640e+09, 0.00000000e+00, 2.79948442e+01],\n",
       "       [1.56164640e+09, 1.00000000e+00, 2.81438587e+01],\n",
       "       [1.56164640e+09, 2.00000000e+00, 2.47325369e+01],\n",
       "       ...,\n",
       "       [1.56182494e+09, 5.85300000e+03, 3.89774793e+01],\n",
       "       [1.56182494e+09, 5.85400000e+03, 3.66568844e+01],\n",
       "       [1.56182494e+09, 5.85500000e+03, 3.47411581e+01]])"
      ]
     },
     "execution_count": 46,
     "metadata": {},
     "output_type": "execute_result"
    }
   ],
   "source": [
    "c"
   ]
  },
  {
   "cell_type": "code",
   "execution_count": null,
   "metadata": {},
   "outputs": [],
   "source": []
  }
 ],
 "metadata": {
  "kernelspec": {
   "display_name": "Python 3",
   "language": "python",
   "name": "python3"
  },
  "language_info": {
   "codemirror_mode": {
    "name": "ipython",
    "version": 3
   },
   "file_extension": ".py",
   "mimetype": "text/x-python",
   "name": "python",
   "nbconvert_exporter": "python",
   "pygments_lexer": "ipython3",
   "version": "3.7.0"
  }
 },
 "nbformat": 4,
 "nbformat_minor": 2
}
