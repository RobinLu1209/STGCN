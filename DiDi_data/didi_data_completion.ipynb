{
 "cells": [
  {
   "cell_type": "code",
   "execution_count": 1,
   "metadata": {
    "collapsed": true
   },
   "outputs": [],
   "source": [
    "import numpy as np\n",
    "from tqdm import tqdm"
   ]
  },
  {
   "cell_type": "code",
   "execution_count": 2,
   "metadata": {
    "collapsed": true
   },
   "outputs": [],
   "source": [
    "data = np.load('/home/blu/workspace/graduate_project/data/didi_chengdu/Jan2Apr/origin.npy', allow_pickle=True)"
   ]
  },
  {
   "cell_type": "code",
   "execution_count": 3,
   "metadata": {
    "collapsed": true
   },
   "outputs": [],
   "source": [
    "road_id = np.unique(data[:,0])\n",
    "time = np.unique(data[:,1])"
   ]
  },
  {
   "cell_type": "code",
   "execution_count": 4,
   "metadata": {
    "collapsed": false
   },
   "outputs": [
    {
     "name": "stdout",
     "output_type": "stream",
     "text": [
      "[281863 281864 281865 ..., 283536 283537 283538]\n",
      "(1676,)\n",
      "['2018-01-01 00:00:00' '2018-01-01 00:10:00' '2018-01-01 00:20:00' ...,\n",
      " '2018-04-30 23:30:00' '2018-04-30 23:40:00' '2018-04-30 23:50:00']\n",
      "(17280,)\n"
     ]
    }
   ],
   "source": [
    "print(road_id)\n",
    "print(road_id.shape)\n",
    "print(time)\n",
    "print(time.shape)"
   ]
  },
  {
   "cell_type": "code",
   "execution_count": 5,
   "metadata": {
    "collapsed": true
   },
   "outputs": [],
   "source": [
    "mat = np.zeros((road_id.shape[0], time.shape[0], 2))"
   ]
  },
  {
   "cell_type": "code",
   "execution_count": 6,
   "metadata": {
    "collapsed": true
   },
   "outputs": [],
   "source": [
    "road_dict = {id: id-281863 for id in road_id}\n",
    "time_dict = {time[i]: i for i in range(time.shape[0])}"
   ]
  },
  {
   "cell_type": "code",
   "execution_count": 7,
   "metadata": {
    "collapsed": true
   },
   "outputs": [],
   "source": [
    "time_dict_inv = {i: time[i] for i in range(time.shape[0])}"
   ]
  },
  {
   "cell_type": "code",
   "execution_count": 8,
   "metadata": {
    "collapsed": false
   },
   "outputs": [
    {
     "name": "stderr",
     "output_type": "stream",
     "text": [
      "100%|██████████| 27814256/27814256 [00:59<00:00, 464121.22it/s]\n"
     ]
    }
   ],
   "source": [
    "for msg in tqdm(data):\n",
    "    mat[road_dict[msg[0]]][time_dict[msg[1]]] = [msg[2], msg[3]]"
   ]
  },
  {
   "cell_type": "code",
   "execution_count": 9,
   "metadata": {
    "collapsed": false
   },
   "outputs": [
    {
     "name": "stdout",
     "output_type": "stream",
     "text": [
      "(array([   0,    0,    0, ..., 1675, 1675, 1675]), array([6783, 6783, 6801, ..., 7076, 7077, 7077]), array([0, 1, 0, ..., 1, 0, 1]))\n"
     ]
    }
   ],
   "source": [
    "empty_idx = np.where(mat==0)\n",
    "print(empty_idx)"
   ]
  },
  {
   "cell_type": "code",
   "execution_count": 10,
   "metadata": {
    "collapsed": false
   },
   "outputs": [
    {
     "name": "stderr",
     "output_type": "stream",
     "text": [
      "100%|██████████| 2294048/2294048 [06:13<00:00, 6141.74it/s]\n"
     ]
    }
   ],
   "source": [
    "day = 0\n",
    "tti = 0\n",
    "speed = 0\n",
    "for n in tqdm(range(len(empty_idx[0]))):\n",
    "    if n%2 == 0:\n",
    "        for i in range(120):\n",
    "            road_i = empty_idx[0][n]\n",
    "            t = empty_idx[1][n] % 144\n",
    "            if mat[road_i][t + i * 144][0] != 0:\n",
    "                tti += mat[road_i][t + i * 144][0]\n",
    "                speed += mat[road_i][t + i * 144][1]\n",
    "                day += 1\n",
    "        tti /= day\n",
    "        speed /= day\n",
    "        mat[empty_idx[0][n]][empty_idx[1][n]] = [tti, speed]"
   ]
  },
  {
   "cell_type": "code",
   "execution_count": 11,
   "metadata": {
    "collapsed": true
   },
   "outputs": [],
   "source": [
    "np.save('/home/blu/workspace/graduate_project/data/didi_chengdu/Jan2Apr/completion.npy', mat)"
   ]
  }
 ],
 "metadata": {
  "anaconda-cloud": {},
  "kernelspec": {
   "display_name": "pytorch_env",
   "language": "python",
   "name": "pytorch_gpu"
  },
  "language_info": {
   "codemirror_mode": {
    "name": "ipython",
    "version": 3
   },
   "file_extension": ".py",
   "mimetype": "text/x-python",
   "name": "python",
   "nbconvert_exporter": "python",
   "pygments_lexer": "ipython3",
   "version": "3.5.2"
  }
 },
 "nbformat": 4,
 "nbformat_minor": 1
}
